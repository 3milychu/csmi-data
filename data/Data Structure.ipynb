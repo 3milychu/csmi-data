{
 "cells": [
  {
   "cell_type": "code",
   "execution_count": 2,
   "metadata": {},
   "outputs": [],
   "source": [
    "import numpy as np\n",
    "import pandas as pd\n",
    "import matplotlib.pyplot as plt\n",
    "import pickle\n",
    "import warnings\n",
    "from skimage import io, color, transform, feature\n",
    "%matplotlib inline"
   ]
  },
  {
   "cell_type": "code",
   "execution_count": 5,
   "metadata": {
    "collapsed": true
   },
   "outputs": [],
   "source": [
    "df1 = pd.read_csv('/Volumes/Samsung_t3/project-repos/csmi-data/data/people.csv')\n",
    "df2 = pd.read_csv('/Volumes/Samsung_t3/project-repos/csmi-data/data/events.csv')\n",
    "df3 = pd.read_csv('/Volumes/Samsung_t3/project-repos/csmi-data/data/courses.csv')\n",
    "df4 = pd.read_csv('/Volumes/Samsung_t3/project-repos/csmi-data/data/organizations.csv')\n",
    "df5 = pd.read_csv('/Volumes/Samsung_t3/project-repos/csmi-data/data/centerslabs.csv')"
   ]
  },
  {
   "cell_type": "code",
   "execution_count": 7,
   "metadata": {},
   "outputs": [
    {
     "name": "stdout",
     "output_type": "stream",
     "text": [
      "      last   first                            role                contact  \\\n",
      "0  Abelson  Elaine  Associate Professor of History  abelson@newschool.edu   \n",
      "\n",
      "   office_location                                 research_interests  \\\n",
      "0  80 Fifth Avenue  Research Interests:\\nGender, cities, social mo...   \n",
      "\n",
      "  current_courses                                      concentration  \\\n",
      "0             NaN  Gender, Politics and History\\nIndependent Stud...   \n",
      "\n",
      "                                             profile  sheet  \n",
      "0  I am an Associate Professor at the New School ...      1  \n"
     ]
    }
   ],
   "source": [
    "print(df1.head(1))"
   ]
  },
  {
   "cell_type": "code",
   "execution_count": 14,
   "metadata": {},
   "outputs": [],
   "source": [
    "df = pd.concat([df1, df2, df3, df4, df5])"
   ]
  },
  {
   "cell_type": "code",
   "execution_count": 19,
   "metadata": {},
   "outputs": [],
   "source": [
    "df = df.fillna(0)"
   ]
  },
  {
   "cell_type": "code",
   "execution_count": 26,
   "metadata": {
    "collapsed": true
   },
   "outputs": [],
   "source": [
    "# Create image path\n",
    "df.loc[df['sheet']==1, 'path'] = \"1.jpg\"\n",
    "df.loc[df['sheet']==2, 'path'] = \"2.jpg\"\n",
    "df.loc[df['sheet']==3, 'path'] = \"3.jpg\"\n",
    "df.loc[df['sheet']==4, 'path'] = \"4.jpg\"\n",
    "df.loc[df['sheet']==5, 'path'] = \"5.jpg\""
   ]
  },
  {
   "cell_type": "code",
   "execution_count": 29,
   "metadata": {
    "collapsed": true
   },
   "outputs": [],
   "source": [
    "df['size'] = 40000"
   ]
  },
  {
   "cell_type": "code",
   "execution_count": 30,
   "metadata": {},
   "outputs": [
    {
     "name": "stdout",
     "output_type": "stream",
     "text": [
      "  CRN center_lab_name centers collaboration  \\\n",
      "0   0               0       0             0   \n",
      "\n",
      "                                       concentration                contact  \\\n",
      "0  Gender, Politics and History\\nIndependent Stud...  abelson@newschool.edu   \n",
      "\n",
      "  course_name current_courses days_times department_affiliation  ...    \\\n",
      "0           0               0          0                      0  ...     \n",
      "\n",
      "  sponsors_schools staff_structure students subject themes topics websites  \\\n",
      "0                0               0        0       0      0      0        0   \n",
      "\n",
      "  where   path   size  \n",
      "0     0  1.jpg  40000  \n",
      "\n",
      "[1 rows x 47 columns]\n"
     ]
    }
   ],
   "source": [
    "print(df.head(1))"
   ]
  },
  {
   "cell_type": "code",
   "execution_count": 31,
   "metadata": {},
   "outputs": [],
   "source": [
    "df.to_csv(\"/Volumes/Samsung_t3/project-repos/csmi-data/data/all.csv\", index=False)"
   ]
  },
  {
   "cell_type": "code",
   "execution_count": 21,
   "metadata": {},
   "outputs": [
    {
     "data": {
      "text/plain": [
       "['last',\n",
       " 'first',\n",
       " 'role',\n",
       " 'contact',\n",
       " 'office_location',\n",
       " 'research_interests',\n",
       " 'current_courses',\n",
       " 'concentration',\n",
       " 'profile',\n",
       " 'sheet']"
      ]
     },
     "execution_count": 21,
     "metadata": {},
     "output_type": "execute_result"
    }
   ],
   "source": [
    "list(df1)"
   ]
  },
  {
   "cell_type": "code",
   "execution_count": 22,
   "metadata": {},
   "outputs": [
    {
     "data": {
      "text/plain": [
       "['event_name',\n",
       " 'event_date',\n",
       " 'event_description',\n",
       " 'where',\n",
       " 'sponsors_schools',\n",
       " 'speakers',\n",
       " 'department_affiliation',\n",
       " 'faculty',\n",
       " 'collaboration',\n",
       " 'contact',\n",
       " 'notes',\n",
       " 'centers',\n",
       " 'themes',\n",
       " 'topics',\n",
       " 'event_type',\n",
       " 'hashtags',\n",
       " 'sheet']"
      ]
     },
     "execution_count": 22,
     "metadata": {},
     "output_type": "execute_result"
    }
   ],
   "source": [
    "list(df2)"
   ]
  },
  {
   "cell_type": "code",
   "execution_count": 23,
   "metadata": {},
   "outputs": [
    {
     "data": {
      "text/plain": [
       "['course_name',\n",
       " 'description',\n",
       " 'instructor',\n",
       " 'semester',\n",
       " 'days_times',\n",
       " 'level',\n",
       " 'school_college',\n",
       " 'CRN',\n",
       " 'sheet']"
      ]
     },
     "execution_count": 23,
     "metadata": {},
     "output_type": "execute_result"
    }
   ],
   "source": [
    "list(df3)"
   ]
  },
  {
   "cell_type": "code",
   "execution_count": 24,
   "metadata": {},
   "outputs": [
    {
     "data": {
      "text/plain": [
       "['organization_name', 'description', 'meeting_space', 'contact', 'sheet']"
      ]
     },
     "execution_count": 24,
     "metadata": {},
     "output_type": "execute_result"
    }
   ],
   "source": [
    "list(df4)"
   ]
  },
  {
   "cell_type": "code",
   "execution_count": 25,
   "metadata": {},
   "outputs": [
    {
     "data": {
      "text/plain": [
       "['center_lab_name',\n",
       " 'subject',\n",
       " 'purpose_summary_statements',\n",
       " 'location',\n",
       " 'school',\n",
       " 'faculty',\n",
       " 'staff_structure',\n",
       " 'students',\n",
       " 'notes',\n",
       " 'sponsors',\n",
       " 'partners',\n",
       " 'contact',\n",
       " 'websites',\n",
       " 'sheet']"
      ]
     },
     "execution_count": 25,
     "metadata": {},
     "output_type": "execute_result"
    }
   ],
   "source": [
    "list(df5)"
   ]
  },
  {
   "cell_type": "code",
   "execution_count": null,
   "metadata": {
    "collapsed": true
   },
   "outputs": [],
   "source": []
  }
 ],
 "metadata": {
  "kernelspec": {
   "display_name": "Python 3",
   "language": "python",
   "name": "python3"
  },
  "language_info": {
   "codemirror_mode": {
    "name": "ipython",
    "version": 3
   },
   "file_extension": ".py",
   "mimetype": "text/x-python",
   "name": "python",
   "nbconvert_exporter": "python",
   "pygments_lexer": "ipython3",
   "version": "3.6.3"
  }
 },
 "nbformat": 4,
 "nbformat_minor": 2
}
