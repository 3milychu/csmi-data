{
 "cells": [
  {
   "cell_type": "code",
   "execution_count": 1,
   "metadata": {
    "collapsed": true
   },
   "outputs": [],
   "source": [
    "import numpy as np\n",
    "import pandas as pd\n",
    "import matplotlib.pyplot as plt\n",
    "import pickle\n",
    "import warnings\n",
    "from skimage import io, color, transform, feature\n",
    "%matplotlib inline"
   ]
  },
  {
   "cell_type": "code",
   "execution_count": 2,
   "metadata": {
    "collapsed": true
   },
   "outputs": [],
   "source": [
    "df1 = pd.read_csv('/Volumes/Samsung_t3/project-repos/csmi-data/data/people.csv')\n",
    "df2 = pd.read_csv('/Volumes/Samsung_t3/project-repos/csmi-data/data/events.csv')\n",
    "df3 = pd.read_csv('/Volumes/Samsung_t3/project-repos/csmi-data/data/courses.csv')\n",
    "df4 = pd.read_csv('/Volumes/Samsung_t3/project-repos/csmi-data/data/organizations.csv')\n",
    "df5 = pd.read_csv('/Volumes/Samsung_t3/project-repos/csmi-data/data/centerslabs.csv')"
   ]
  },
  {
   "cell_type": "code",
   "execution_count": 3,
   "metadata": {},
   "outputs": [
    {
     "name": "stdout",
     "output_type": "stream",
     "text": [
      "      last   first                            role                contact  \\\n",
      "0  Abelson  Elaine  Associate Professor of History  abelson@newschool.edu   \n",
      "\n",
      "   office_location                                 research_interests  \\\n",
      "0  80 Fifth Avenue  Research Interests:\\nGender, cities, social mo...   \n",
      "\n",
      "  current_courses                                      concentration  \\\n",
      "0             NaN  Gender, Politics and History\\nIndependent Stud...   \n",
      "\n",
      "                                             profile  sheet  \n",
      "0  I am an Associate Professor at the New School ...      1  \n"
     ]
    }
   ],
   "source": [
    "print(df1.head(1))"
   ]
  },
  {
   "cell_type": "code",
   "execution_count": 4,
   "metadata": {
    "collapsed": true
   },
   "outputs": [],
   "source": [
    "df = pd.concat([df1, df2, df3, df4, df5])"
   ]
  },
  {
   "cell_type": "code",
   "execution_count": 5,
   "metadata": {
    "collapsed": true
   },
   "outputs": [],
   "source": [
    "df = df.fillna(0)"
   ]
  },
  {
   "cell_type": "code",
   "execution_count": 22,
   "metadata": {
    "collapsed": true
   },
   "outputs": [],
   "source": [
    "# Create image path\n",
    "df.loc[df['sheet']==1, 'path'] = \"https://raw.githubusercontent.com/3milychu/csmi-data/master/assets/1.jpg\"\n",
    "df.loc[df['sheet']==2, 'path'] = \"https://raw.githubusercontent.com/3milychu/csmi-data/master/assets/2.jpg\"\n",
    "df.loc[df['sheet']==3, 'path'] = \"https://raw.githubusercontent.com/3milychu/csmi-data/master/assets/3.jpg\"\n",
    "df.loc[df['sheet']==4, 'path'] = \"https://raw.githubusercontent.com/3milychu/csmi-data/master/assets/4.jpg\"\n",
    "df.loc[df['sheet']==5, 'path'] = \"https://raw.githubusercontent.com/3milychu/csmi-data/master/assets/5.jpg\""
   ]
  },
  {
   "cell_type": "code",
   "execution_count": 23,
   "metadata": {
    "collapsed": true
   },
   "outputs": [],
   "source": [
    "df['size'] = 40000"
   ]
  },
  {
   "cell_type": "code",
   "execution_count": 24,
   "metadata": {},
   "outputs": [],
   "source": [
    "df['tag1'] = np.random.randint(0, 2, df.shape[0])\n",
    "df['tag2'] = np.random.randint(0, 2, df.shape[0])\n",
    "df['tag3'] = np.random.randint(0, 2, df.shape[0])\n",
    "df['tag4'] = np.random.randint(0, 2, df.shape[0])\n",
    "df['tag5'] = np.random.randint(0, 2, df.shape[0])\n",
    "df['tag6'] = np.random.randint(0, 2, df.shape[0])"
   ]
  },
  {
   "cell_type": "code",
   "execution_count": 25,
   "metadata": {},
   "outputs": [
    {
     "name": "stdout",
     "output_type": "stream",
     "text": [
      "  CRN center_lab_name centers collaboration  \\\n",
      "0   0               0       0             0   \n",
      "1   0               0       0             0   \n",
      "2   0               0       0             0   \n",
      "3   0               0       0             0   \n",
      "4   0               0       0             0   \n",
      "5   0               0       0             0   \n",
      "6   0               0       0             0   \n",
      "7   0               0       0             0   \n",
      "8   0               0       0             0   \n",
      "9   0               0       0             0   \n",
      "\n",
      "                                       concentration  \\\n",
      "0  Gender, Politics and History\\nIndependent Stud...   \n",
      "1                                                  0   \n",
      "2                                                  0   \n",
      "3                                                  0   \n",
      "4                                                  0   \n",
      "5                                                  0   \n",
      "6                                                  0   \n",
      "7                                                  0   \n",
      "8                                                  0   \n",
      "9                                                  0   \n",
      "\n",
      "                    contact course_name  \\\n",
      "0     abelson@newschool.edu           0   \n",
      "1       agids@newschool.edu           0   \n",
      "2    baptista@newschool.edu           0   \n",
      "3   banubargu@newschool.edu           0   \n",
      "4    bendineg@newschool.edu           0   \n",
      "5   bermanc@newschool.edu\\n           0   \n",
      "6  botticic@newschool.edu\\n           0   \n",
      "7    dasg927@newschool.edu            0   \n",
      "8   davisem@newschool.edu\\n           0   \n",
      "9     delanoa@newschool.edu           0   \n",
      "\n",
      "                                     current_courses days_times  \\\n",
      "0                                                  0          0   \n",
      "1  Print & Prison Indust Complex\\nCollab: Human S...          0   \n",
      "2  Sustainabiltiy Prspct&Practice\\nEnvironmental ...          0   \n",
      "3  Independent Study (Open Campus)\\nDirected Diss...          0   \n",
      "4                              Senior Seminar Spring          0   \n",
      "5  18th Century British Fiction\\nIndependent Stud...          0   \n",
      "6  Gender and its Discontents\\nGender and its Dis...          0   \n",
      "7                                                  0          0   \n",
      "8  Philosophy of RaceDisability and Justice\\nInde...          0   \n",
      "9  Transnational Border Lab\\nInternship (Open Cam...          0   \n",
      "\n",
      "  department_affiliation ...  websites where  \\\n",
      "0                      0 ...         0     0   \n",
      "1                      0 ...         0     0   \n",
      "2                      0 ...         0     0   \n",
      "3                      0 ...         0     0   \n",
      "4                      0 ...         0     0   \n",
      "5                      0 ...         0     0   \n",
      "6                      0 ...         0     0   \n",
      "7                      0 ...         0     0   \n",
      "8                      0 ...         0     0   \n",
      "9                      0 ...         0     0   \n",
      "\n",
      "                                                path   size tag1 tag2 tag3  \\\n",
      "0  https://raw.githubusercontent.com/3milychu/csm...  40000    0    0    0   \n",
      "1  https://raw.githubusercontent.com/3milychu/csm...  40000    1    0    1   \n",
      "2  https://raw.githubusercontent.com/3milychu/csm...  40000    1    0    1   \n",
      "3  https://raw.githubusercontent.com/3milychu/csm...  40000    0    1    0   \n",
      "4  https://raw.githubusercontent.com/3milychu/csm...  40000    1    1    1   \n",
      "5  https://raw.githubusercontent.com/3milychu/csm...  40000    0    1    1   \n",
      "6  https://raw.githubusercontent.com/3milychu/csm...  40000    0    1    1   \n",
      "7  https://raw.githubusercontent.com/3milychu/csm...  40000    1    0    0   \n",
      "8  https://raw.githubusercontent.com/3milychu/csm...  40000    1    0    1   \n",
      "9  https://raw.githubusercontent.com/3milychu/csm...  40000    1    1    0   \n",
      "\n",
      "  tag4 tag5 tag6  \n",
      "0    1    1    1  \n",
      "1    0    0    0  \n",
      "2    1    1    1  \n",
      "3    0    0    1  \n",
      "4    0    0    1  \n",
      "5    0    0    0  \n",
      "6    1    0    1  \n",
      "7    1    1    0  \n",
      "8    1    0    0  \n",
      "9    0    0    1  \n",
      "\n",
      "[10 rows x 53 columns]\n"
     ]
    }
   ],
   "source": [
    "print(df.head(10))"
   ]
  },
  {
   "cell_type": "code",
   "execution_count": 26,
   "metadata": {
    "collapsed": true
   },
   "outputs": [],
   "source": [
    "df.to_csv(\"/Volumes/Samsung_t3/project-repos/csmi-data/data/all.csv\", index=False)"
   ]
  },
  {
   "cell_type": "code",
   "execution_count": 20,
   "metadata": {},
   "outputs": [
    {
     "data": {
      "text/plain": [
       "['CRN',\n",
       " 'center_lab_name',\n",
       " 'centers',\n",
       " 'collaboration',\n",
       " 'concentration',\n",
       " 'contact',\n",
       " 'course_name',\n",
       " 'current_courses',\n",
       " 'days_times',\n",
       " 'department_affiliation',\n",
       " 'description',\n",
       " 'event_date',\n",
       " 'event_description',\n",
       " 'event_name',\n",
       " 'event_type',\n",
       " 'faculty',\n",
       " 'first',\n",
       " 'hashtags',\n",
       " 'instructor',\n",
       " 'last',\n",
       " 'level',\n",
       " 'location',\n",
       " 'meeting_space',\n",
       " 'notes',\n",
       " 'office_location',\n",
       " 'organization_name',\n",
       " 'partners',\n",
       " 'profile',\n",
       " 'purpose_summary_statements',\n",
       " 'research_interests',\n",
       " 'role',\n",
       " 'school',\n",
       " 'school_college',\n",
       " 'semester',\n",
       " 'sheet',\n",
       " 'speakers',\n",
       " 'sponsors',\n",
       " 'sponsors_schools',\n",
       " 'staff_structure',\n",
       " 'students',\n",
       " 'subject',\n",
       " 'themes',\n",
       " 'topics',\n",
       " 'websites',\n",
       " 'where',\n",
       " 'path',\n",
       " 'size',\n",
       " 'tag1',\n",
       " 'tag2',\n",
       " 'tag3',\n",
       " 'tag4',\n",
       " 'tag5',\n",
       " 'tag6']"
      ]
     },
     "execution_count": 20,
     "metadata": {},
     "output_type": "execute_result"
    }
   ],
   "source": [
    "list(df)"
   ]
  },
  {
   "cell_type": "code",
   "execution_count": 27,
   "metadata": {},
   "outputs": [
    {
     "data": {
      "text/plain": [
       "501055"
      ]
     },
     "execution_count": 27,
     "metadata": {},
     "output_type": "execute_result"
    }
   ],
   "source": [
    "import csv\n",
    "import json\n",
    "\n",
    "# Master Json\n",
    "csvfile = open(\"//Volumes/Samsung_t3/project-repos/csmi-data/data/all.csv\", 'r')\n",
    "jsonfile = open('/Volumes/Samsung_t3/project-repos/csmi-data/data/all.json', 'w')\n",
    "\n",
    "fieldnames = ('CRN',\n",
    " 'center_lab_name',\n",
    " 'centers',\n",
    " 'collaboration',\n",
    " 'concentration',\n",
    " 'contact',\n",
    " 'course_name',\n",
    " 'current_courses',\n",
    " 'days_times',\n",
    " 'department_affiliation',\n",
    " 'description',\n",
    " 'event_date',\n",
    " 'event_description',\n",
    " 'event_name',\n",
    " 'event_type',\n",
    " 'faculty',\n",
    " 'first',\n",
    " 'hashtags',\n",
    " 'instructor',\n",
    " 'last',\n",
    " 'level',\n",
    " 'location',\n",
    " 'meeting_space',\n",
    " 'notes',\n",
    " 'office_location',\n",
    " 'organization_name',\n",
    " 'partners',\n",
    " 'profile',\n",
    " 'purpose_summary_statements',\n",
    " 'research_interests',\n",
    " 'role',\n",
    " 'school',\n",
    " 'school_college',\n",
    " 'semester',\n",
    " 'sheet',\n",
    " 'speakers',\n",
    " 'sponsors',\n",
    " 'sponsors_schools',\n",
    " 'staff_structure',\n",
    " 'students',\n",
    " 'subject',\n",
    " 'themes',\n",
    " 'topics',\n",
    " 'websites',\n",
    " 'where',\n",
    " 'path',\n",
    " 'size',\n",
    " 'tag1',\n",
    " 'tag2',\n",
    " 'tag3',\n",
    " 'tag4',\n",
    " 'tag5',\n",
    " 'tag6')\n",
    "reader = csv.DictReader( csvfile, fieldnames)\n",
    "out = json.dumps( [ row for row in reader ] )\n",
    "jsonfile.write(out)"
   ]
  },
  {
   "cell_type": "code",
   "execution_count": 21,
   "metadata": {},
   "outputs": [
    {
     "data": {
      "text/plain": [
       "['last',\n",
       " 'first',\n",
       " 'role',\n",
       " 'contact',\n",
       " 'office_location',\n",
       " 'research_interests',\n",
       " 'current_courses',\n",
       " 'concentration',\n",
       " 'profile',\n",
       " 'sheet']"
      ]
     },
     "execution_count": 21,
     "metadata": {},
     "output_type": "execute_result"
    }
   ],
   "source": [
    "list(df1)"
   ]
  },
  {
   "cell_type": "code",
   "execution_count": 22,
   "metadata": {},
   "outputs": [
    {
     "data": {
      "text/plain": [
       "['event_name',\n",
       " 'event_date',\n",
       " 'event_description',\n",
       " 'where',\n",
       " 'sponsors_schools',\n",
       " 'speakers',\n",
       " 'department_affiliation',\n",
       " 'faculty',\n",
       " 'collaboration',\n",
       " 'contact',\n",
       " 'notes',\n",
       " 'centers',\n",
       " 'themes',\n",
       " 'topics',\n",
       " 'event_type',\n",
       " 'hashtags',\n",
       " 'sheet']"
      ]
     },
     "execution_count": 22,
     "metadata": {},
     "output_type": "execute_result"
    }
   ],
   "source": [
    "list(df2)"
   ]
  },
  {
   "cell_type": "code",
   "execution_count": 23,
   "metadata": {},
   "outputs": [
    {
     "data": {
      "text/plain": [
       "['course_name',\n",
       " 'description',\n",
       " 'instructor',\n",
       " 'semester',\n",
       " 'days_times',\n",
       " 'level',\n",
       " 'school_college',\n",
       " 'CRN',\n",
       " 'sheet']"
      ]
     },
     "execution_count": 23,
     "metadata": {},
     "output_type": "execute_result"
    }
   ],
   "source": [
    "list(df3)"
   ]
  },
  {
   "cell_type": "code",
   "execution_count": 24,
   "metadata": {},
   "outputs": [
    {
     "data": {
      "text/plain": [
       "['organization_name', 'description', 'meeting_space', 'contact', 'sheet']"
      ]
     },
     "execution_count": 24,
     "metadata": {},
     "output_type": "execute_result"
    }
   ],
   "source": [
    "list(df4)"
   ]
  },
  {
   "cell_type": "code",
   "execution_count": 25,
   "metadata": {},
   "outputs": [
    {
     "data": {
      "text/plain": [
       "['center_lab_name',\n",
       " 'subject',\n",
       " 'purpose_summary_statements',\n",
       " 'location',\n",
       " 'school',\n",
       " 'faculty',\n",
       " 'staff_structure',\n",
       " 'students',\n",
       " 'notes',\n",
       " 'sponsors',\n",
       " 'partners',\n",
       " 'contact',\n",
       " 'websites',\n",
       " 'sheet']"
      ]
     },
     "execution_count": 25,
     "metadata": {},
     "output_type": "execute_result"
    }
   ],
   "source": [
    "list(df5)"
   ]
  },
  {
   "cell_type": "code",
   "execution_count": null,
   "metadata": {
    "collapsed": true
   },
   "outputs": [],
   "source": []
  }
 ],
 "metadata": {
  "kernelspec": {
   "display_name": "Python 3",
   "language": "python",
   "name": "python3"
  },
  "language_info": {
   "codemirror_mode": {
    "name": "ipython",
    "version": 3
   },
   "file_extension": ".py",
   "mimetype": "text/x-python",
   "name": "python",
   "nbconvert_exporter": "python",
   "pygments_lexer": "ipython3",
   "version": "3.6.3"
  }
 },
 "nbformat": 4,
 "nbformat_minor": 2
}
