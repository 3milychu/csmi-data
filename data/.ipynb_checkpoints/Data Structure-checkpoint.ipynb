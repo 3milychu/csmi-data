{
 "cells": [
  {
   "cell_type": "code",
   "execution_count": null,
   "metadata": {
    "collapsed": true
   },
   "outputs": [],
   "source": [
    "import numpy as np\n",
    "import pandas as pd\n",
    "import matplotlib.pyplot as plt\n",
    "import pickle\n",
    "import warnings\n",
    "from skimage import io, color, transform, feature\n",
    "%matplotlib inline"
   ]
  },
  {
   "cell_type": "code",
   "execution_count": null,
   "metadata": {
    "collapsed": true
   },
   "outputs": [],
   "source": [
    "df1 = pd.read_csv('/Volumes/Samsung_t3/project-repos/csmi-data/data/people.csv')\n",
    "df2 = pd.read_csv('/Volumes/Samsung_t3/project-repos/csmi-data/data/events.csv')\n",
    "df3 = pd.read_csv('/Volumes/Samsung_t3/project-repos/csmi-data/data/courses.csv')\n",
    "df4 = pd.read_csv('/Volumes/Samsung_t3/project-repos/csmi-data/data/organizations.csv')\n",
    "df5 = pd.read_csv('/Volumes/Samsung_t3/project-repos/csmi-data/data/centerslabs.csv')\n",
    "df6 = pd.read_csv('/Volumes/Samsung_t3/project-repos/csmi-data/data/external.csv')"
   ]
  },
  {
   "cell_type": "code",
   "execution_count": null,
   "metadata": {},
   "outputs": [],
   "source": [
    "print(df1.head(1))"
   ]
  },
  {
   "cell_type": "code",
   "execution_count": null,
   "metadata": {
    "collapsed": true
   },
   "outputs": [],
   "source": [
    "df = pd.concat([df1, df2, df3, df4, df5, df6])"
   ]
  },
  {
   "cell_type": "code",
   "execution_count": null,
   "metadata": {
    "collapsed": true
   },
   "outputs": [],
   "source": [
    "df = df.fillna(\"\")"
   ]
  },
  {
   "cell_type": "code",
   "execution_count": null,
   "metadata": {
    "collapsed": true
   },
   "outputs": [],
   "source": [
    "# Create image path\n",
    "df.loc[df['sheet']==\"People\", 'path'] = \"https://raw.githubusercontent.com/3milychu/csmi-data/master/assets/1.jpg\"\n",
    "df.loc[df['sheet']==\"Events\", 'path'] = \"https://raw.githubusercontent.com/3milychu/csmi-data/master/assets/2.jpg\"\n",
    "df.loc[df['sheet']==\"Courses\", 'path'] = \"https://raw.githubusercontent.com/3milychu/csmi-data/master/assets/3.jpg\"\n",
    "df.loc[df['sheet']==\"Organizations\", 'path'] = \"https://raw.githubusercontent.com/3milychu/csmi-data/master/assets/4.jpg\"\n",
    "df.loc[df['sheet']==\"Centers/Labs\", 'path'] = \"https://raw.githubusercontent.com/3milychu/csmi-data/master/assets/5.jpg\"\n",
    "df.loc[df['sheet']==\"External\", 'path'] = \"https://raw.githubusercontent.com/3milychu/csmi-data/master/assets/6.jpg\""
   ]
  },
  {
   "cell_type": "code",
   "execution_count": null,
   "metadata": {
    "collapsed": true
   },
   "outputs": [],
   "source": [
    "df['size'] = 40000"
   ]
  },
  {
   "cell_type": "code",
   "execution_count": null,
   "metadata": {
    "collapsed": true
   },
   "outputs": [],
   "source": [
    "df['tag1'] = np.random.randint(0, 2, df.shape[0])\n",
    "df['tag2'] = np.random.randint(0, 2, df.shape[0])\n",
    "df['tag3'] = np.random.randint(0, 2, df.shape[0])\n",
    "df['tag4'] = np.random.randint(0, 2, df.shape[0])\n",
    "df['tag5'] = np.random.randint(0, 2, df.shape[0])\n",
    "df['tag6'] = np.random.randint(0, 2, df.shape[0])"
   ]
  },
  {
   "cell_type": "code",
   "execution_count": null,
   "metadata": {},
   "outputs": [],
   "source": [
    "print(df.head(10))"
   ]
  },
  {
   "cell_type": "code",
   "execution_count": 32,
   "metadata": {
    "collapsed": true
   },
   "outputs": [],
   "source": [
    "df.to_csv(\"/Volumes/Samsung_t3/project-repos/csmi-data/data/all.csv\", index=False)"
   ]
  },
  {
   "cell_type": "code",
   "execution_count": 22,
   "metadata": {},
   "outputs": [
    {
     "data": {
      "text/plain": [
       "['CRN',\n",
       " 'center_lab_name',\n",
       " 'centers',\n",
       " 'collaboration',\n",
       " 'concentration',\n",
       " 'contact',\n",
       " 'course_name',\n",
       " 'current_courses',\n",
       " 'days_times',\n",
       " 'department_affiliation',\n",
       " 'description',\n",
       " 'event_date',\n",
       " 'event_description',\n",
       " 'event_name',\n",
       " 'event_type',\n",
       " 'faculty',\n",
       " 'first',\n",
       " 'hashtags',\n",
       " 'instructor',\n",
       " 'last',\n",
       " 'level',\n",
       " 'location',\n",
       " 'meeting_space',\n",
       " 'notes',\n",
       " 'office_location',\n",
       " 'organization_name',\n",
       " 'partners',\n",
       " 'profile',\n",
       " 'purpose_summary_statements',\n",
       " 'research_interests',\n",
       " 'role',\n",
       " 'school',\n",
       " 'school_college',\n",
       " 'semester',\n",
       " 'sheet',\n",
       " 'speakers',\n",
       " 'sponsors',\n",
       " 'sponsors_schools',\n",
       " 'staff_structure',\n",
       " 'students',\n",
       " 'subject',\n",
       " 'themes',\n",
       " 'topics',\n",
       " 'websites',\n",
       " 'where',\n",
       " 'path',\n",
       " 'size',\n",
       " 'tag1',\n",
       " 'tag2',\n",
       " 'tag3',\n",
       " 'tag4',\n",
       " 'tag5',\n",
       " 'tag6']"
      ]
     },
     "execution_count": 22,
     "metadata": {},
     "output_type": "execute_result"
    }
   ],
   "source": [
    "list(df)"
   ]
  },
  {
   "cell_type": "code",
   "execution_count": 33,
   "metadata": {},
   "outputs": [
    {
     "data": {
      "text/plain": [
       "494936"
      ]
     },
     "execution_count": 33,
     "metadata": {},
     "output_type": "execute_result"
    }
   ],
   "source": [
    "import csv\n",
    "import json\n",
    "\n",
    "# Master Json\n",
    "csvfile = open(\"//Volumes/Samsung_t3/project-repos/csmi-data/data/all.csv\", 'r')\n",
    "jsonfile = open('/Volumes/Samsung_t3/project-repos/csmi-data/data/all.json', 'w')\n",
    "\n",
    "fieldnames = ('CRN',\n",
    " 'center_lab_name',\n",
    " 'centers',\n",
    " 'collaboration',\n",
    " 'concentration',\n",
    " 'contact',\n",
    " 'course_name',\n",
    " 'current_courses',\n",
    " 'days_times',\n",
    " 'department_affiliation',\n",
    " 'description',\n",
    " 'event_date',\n",
    " 'event_description',\n",
    " 'event_name',\n",
    " 'event_type',\n",
    " 'faculty',\n",
    " 'first',\n",
    " 'hashtags',\n",
    " 'instructor',\n",
    " 'last',\n",
    " 'level',\n",
    " 'location',\n",
    " 'meeting_space',\n",
    " 'notes',\n",
    " 'office_location',\n",
    " 'organization_name',\n",
    " 'partners',\n",
    " 'profile',\n",
    " 'purpose_summary_statements',\n",
    " 'research_interests',\n",
    " 'role',\n",
    " 'school',\n",
    " 'school_college',\n",
    " 'semester',\n",
    " 'sheet',\n",
    " 'speakers',\n",
    " 'sponsors',\n",
    " 'sponsors_schools',\n",
    " 'staff_structure',\n",
    " 'students',\n",
    " 'subject',\n",
    " 'themes',\n",
    " 'topics',\n",
    " 'websites',\n",
    " 'where',\n",
    " 'path',\n",
    " 'size',\n",
    " 'tag1',\n",
    " 'tag2',\n",
    " 'tag3',\n",
    " 'tag4',\n",
    " 'tag5',\n",
    " 'tag6')\n",
    "reader = csv.DictReader( csvfile, fieldnames)\n",
    "out = json.dumps( [ row for row in reader ] )\n",
    "jsonfile.write(out)"
   ]
  },
  {
   "cell_type": "code",
   "execution_count": 21,
   "metadata": {},
   "outputs": [
    {
     "data": {
      "text/plain": [
       "['last',\n",
       " 'first',\n",
       " 'role',\n",
       " 'contact',\n",
       " 'office_location',\n",
       " 'research_interests',\n",
       " 'current_courses',\n",
       " 'concentration',\n",
       " 'profile',\n",
       " 'sheet']"
      ]
     },
     "execution_count": 21,
     "metadata": {},
     "output_type": "execute_result"
    }
   ],
   "source": [
    "list(df1)"
   ]
  },
  {
   "cell_type": "code",
   "execution_count": 22,
   "metadata": {},
   "outputs": [
    {
     "data": {
      "text/plain": [
       "['event_name',\n",
       " 'event_date',\n",
       " 'event_description',\n",
       " 'where',\n",
       " 'sponsors_schools',\n",
       " 'speakers',\n",
       " 'department_affiliation',\n",
       " 'faculty',\n",
       " 'collaboration',\n",
       " 'contact',\n",
       " 'notes',\n",
       " 'centers',\n",
       " 'themes',\n",
       " 'topics',\n",
       " 'event_type',\n",
       " 'hashtags',\n",
       " 'sheet']"
      ]
     },
     "execution_count": 22,
     "metadata": {},
     "output_type": "execute_result"
    }
   ],
   "source": [
    "list(df2)"
   ]
  },
  {
   "cell_type": "code",
   "execution_count": 23,
   "metadata": {},
   "outputs": [
    {
     "data": {
      "text/plain": [
       "['course_name',\n",
       " 'description',\n",
       " 'instructor',\n",
       " 'semester',\n",
       " 'days_times',\n",
       " 'level',\n",
       " 'school_college',\n",
       " 'CRN',\n",
       " 'sheet']"
      ]
     },
     "execution_count": 23,
     "metadata": {},
     "output_type": "execute_result"
    }
   ],
   "source": [
    "list(df3)"
   ]
  },
  {
   "cell_type": "code",
   "execution_count": 24,
   "metadata": {},
   "outputs": [
    {
     "data": {
      "text/plain": [
       "['organization_name', 'description', 'meeting_space', 'contact', 'sheet']"
      ]
     },
     "execution_count": 24,
     "metadata": {},
     "output_type": "execute_result"
    }
   ],
   "source": [
    "list(df4)"
   ]
  },
  {
   "cell_type": "code",
   "execution_count": 25,
   "metadata": {},
   "outputs": [
    {
     "data": {
      "text/plain": [
       "['center_lab_name',\n",
       " 'subject',\n",
       " 'purpose_summary_statements',\n",
       " 'location',\n",
       " 'school',\n",
       " 'faculty',\n",
       " 'staff_structure',\n",
       " 'students',\n",
       " 'notes',\n",
       " 'sponsors',\n",
       " 'partners',\n",
       " 'contact',\n",
       " 'websites',\n",
       " 'sheet']"
      ]
     },
     "execution_count": 25,
     "metadata": {},
     "output_type": "execute_result"
    }
   ],
   "source": [
    "list(df5)"
   ]
  },
  {
   "cell_type": "code",
   "execution_count": null,
   "metadata": {
    "collapsed": true
   },
   "outputs": [],
   "source": []
  }
 ],
 "metadata": {
  "kernelspec": {
   "display_name": "Python 3",
   "language": "python",
   "name": "python3"
  },
  "language_info": {
   "codemirror_mode": {
    "name": "ipython",
    "version": 3
   },
   "file_extension": ".py",
   "mimetype": "text/x-python",
   "name": "python",
   "nbconvert_exporter": "python",
   "pygments_lexer": "ipython3",
   "version": "3.6.3"
  }
 },
 "nbformat": 4,
 "nbformat_minor": 2
}
